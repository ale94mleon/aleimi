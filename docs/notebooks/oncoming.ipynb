{
 "cells": [
  {
   "attachments": {},
   "cell_type": "markdown",
   "metadata": {},
   "source": [
    "# Oncoming\n",
    "\n",
    "Here we describe some new features of the developing version of **aleimi**\n",
    "\n",
    "Let's install the developing version of **aleimi**. I am assuming that you already have installed RDKit and Vina dependencies. For more details in how to install **aleimi** visit [the installation instructions](https://aleimi.readthedocs.io/en/latest/source/installation.html)."
   ]
  },
  {
   "cell_type": "code",
   "execution_count": 1,
   "metadata": {},
   "outputs": [],
   "source": [
    "#! pip install -U git+https://github.com/ale94mleon/aleimi.git@main"
   ]
  }
 ],
 "metadata": {
  "kernelspec": {
   "display_name": "Python 3.9.13 ('moldrug')",
   "language": "python",
   "name": "python3"
  },
  "language_info": {
   "codemirror_mode": {
    "name": "ipython",
    "version": 3
   },
   "file_extension": ".py",
   "mimetype": "text/x-python",
   "name": "python",
   "nbconvert_exporter": "python",
   "pygments_lexer": "ipython3",
   "version": "3.9.16"
  },
  "orig_nbformat": 4,
  "vscode": {
   "interpreter": {
    "hash": "580997a69bc0f3991857025e1d93e87ed090e2c1fa4aff0ca8e9824f56baf8cb"
   }
  }
 },
 "nbformat": 4,
 "nbformat_minor": 2
}
