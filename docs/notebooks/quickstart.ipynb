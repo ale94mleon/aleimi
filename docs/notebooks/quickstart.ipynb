{
 "cells": [
  {
   "attachments": {},
   "cell_type": "markdown",
   "metadata": {},
   "source": [
    "# Quickstart\n",
    "First let import the modules to work with.  Some functionalities of **aleimi** may not be available on PyPi or Conda yet. This could be because the new version is not yet release, but in brief it is going to be. You could install directly from the repo if some problem pops up. Just paste the following in a code cell:\n",
    "```bash\n",
    "! pip install git+https://github.com/ale94mleon/aleimi.git@main\n",
    "```"
   ]
  },
  {
   "attachments": {},
   "cell_type": "markdown",
   "metadata": {},
   "source": [
    "## As a command line\n",
    "\n",
    "The command line interface of **aleimi** should be straightforward. It only needs the path were the molecules are and (if needed) a configuration yaml file with the parameters definition."
   ]
  },
  {
   "cell_type": "code",
   "execution_count": 31,
   "metadata": {},
   "outputs": [
    {
     "name": "stdout",
     "output_type": "stream",
     "text": [
      "usage: aleimi-run [-h] [-p PARAMS] [-v] suppl\n",
      "\n",
      "positional arguments:\n",
      "  suppl                 The path to the directory were the molecule(s) is(are)\n",
      "\n",
      "optional arguments:\n",
      "  -h, --help            show this help message and exit\n",
      "  -p PARAMS, --params PARAMS\n",
      "                        Parameters to run ALEIMI\n",
      "  -v, --version         show program's version number and exit\n"
     ]
    }
   ],
   "source": [
    "! aleimi-run -h"
   ]
  },
  {
   "attachments": {},
   "cell_type": "markdown",
   "metadata": {},
   "source": [
    "Import modules to work"
   ]
  },
  {
   "cell_type": "code",
   "execution_count": 32,
   "metadata": {},
   "outputs": [],
   "source": [
    "import tempfile, os, yaml\n",
    "import pandas as pd\n",
    "import glob\n"
   ]
  },
  {
   "cell_type": "code",
   "execution_count": 33,
   "metadata": {},
   "outputs": [],
   "source": [
    "# If you wnat to keep the files and explore the directory, set make_tmp_file = False\n",
    "make_tmp_file = True\n",
    "\n",
    "if make_tmp_file:\n",
    "    tmp_path = tempfile.TemporaryDirectory()\n",
    "    os.chdir(tmp_path.name)\n",
    "else:\n",
    "    os.makedirs('wd', exist_ok=True)\n",
    "    os.chdir('wd')\n"
   ]
  },
  {
   "attachments": {},
   "cell_type": "markdown",
   "metadata": {},
   "source": [
    "We will use a `.smi` input. In reality we could use as input any molecule with extension: psb, mol, mol2 or smi. In this file we will define three molecules based on their SMILES representation."
   ]
  },
  {
   "cell_type": "code",
   "execution_count": 34,
   "metadata": {},
   "outputs": [
    {
     "name": "stdout",
     "output_type": "stream",
     "text": [
      "COC(=O)C=1C=CC(=CC1)S(=O)(=O)N\n",
      "CCO\n",
      "CNCO"
     ]
    }
   ],
   "source": [
    "suppl = 'suppl.smi'\n",
    "\n",
    "with open(suppl, 'w') as s:\n",
    "    s.write(\"COC(=O)C=1C=CC(=CC1)S(=O)(=O)N\\nCCO\\nCNCO\")\n",
    "! cat suppl.smi"
   ]
  },
  {
   "cell_type": "code",
   "execution_count": 35,
   "metadata": {},
   "outputs": [
    {
     "name": "stdout",
     "output_type": "stream",
     "text": [
      "BOutPath: true\n",
      "Bd_E: 0.0001\n",
      "Bd_rmsd: 2.0\n",
      "UFF: false\n",
      "energy_cut: 2\n",
      "engine: psi4\n",
      "mopac_keywords: PM7 precise ef xyz geo-ok t=3h EPS=78.4\n",
      "numConfs: 10\n",
      "rdkit_d_RMSD: 0.2\n",
      "rdkit_numThreads: 0\n"
     ]
    }
   ],
   "source": [
    "params = {\n",
    "# aleimi.confgen.main\n",
    "# Number of randoms conformations to generate, usually more than 1000 is available.\n",
    "'numConfs': 10,\n",
    "'rdkit_d_RMSD': 0.2,\n",
    "# We will not optimize at classical level, only use the distance geometry method of RDKit\n",
    "'UFF': False,\n",
    "# The num,ber of threads for the conformer generation and/or classical optimization\n",
    "'rdkit_numThreads': 0,\n",
    "# Definition of the semi-empirical job, here we are using implicit solvent (EPS=78.4)\n",
    "'mopac_keywords': 'PM7 precise ef xyz geo-ok t=3h EPS=78.4',\n",
    "\n",
    "# aleimi.boltzmann.main\n",
    "# Cutoff to consider redundant conformation, respect to the geometry\n",
    "'Bd_rmsd': 1.0,\n",
    "# Cutoff to consider redundant conformation, respect to the energy\n",
    "'Bd_E': 0.0,\n",
    "\n",
    "# aleimi.extractor.main\n",
    "# How many conformation will pass for the refinement step at DF-MP2/6-31+G(d)/heavy-aug-cc-pvdz-jkfit\n",
    "\"energy_cut\": 2,\n",
    "# Engine to prepare the file for QM refinement, a frequency calculation will also be carry out in order to ensure that the critical point is a minimum and not a seattle point.\n",
    "# in the Potential Energy Surface.\n",
    "\"engine\": 'psi4',\n",
    "}\n",
    "with open('params.yml', 'w') as p:\n",
    "    yaml.dump(params, p)\n",
    "\n",
    "! cat params.yml"
   ]
  },
  {
   "attachments": {},
   "cell_type": "markdown",
   "metadata": {},
   "source": [
    "Now we just need to run `aleimi` from the command line"
   ]
  },
  {
   "cell_type": "code",
   "execution_count": 36,
   "metadata": {},
   "outputs": [
    {
     "name": "stdout",
     "output_type": "stream",
     "text": [
      "Resumen\n",
      "\n",
      "Se están generando 10 conformaciones para la molécula con Id = 1...\n",
      "Calculando RMSD ...\n",
      "conf_mol_1:  10/10\n",
      "Archivos de salida: conf_mol_1.sdf, conf_mol_1.mop\n",
      "Número de átomos: 23\n",
      "\n",
      "Se están generando 10 conformaciones para la molécula con Id = 2...\n",
      "Calculando RMSD ...\n",
      "conf_mol_2:  10/10\n",
      "Archivos de salida: conf_mol_2.sdf, conf_mol_2.mop\n",
      "Número de átomos: 9\n",
      "\n",
      "Se están generando 10 conformaciones para la molécula con Id = 3...\n",
      "Calculando RMSD ...\n",
      "conf_mol_3:  10/10\n",
      "Archivos de salida: conf_mol_3.sdf, conf_mol_3.mop\n",
      "Número de átomos: 11\n",
      "\n",
      "conf_mol_1\n",
      "Mopac is running ...\n",
      "Done!\n",
      "'mopac'  13099.86 ms\n",
      "conf_mol_2\n",
      "Mopac is running ...\n",
      "Done!\n",
      "'mopac'  1446.40 ms\n",
      "conf_mol_3\n",
      "Mopac is running ...\n",
      "Done!\n",
      "'mopac'  6105.99 ms\n"
     ]
    }
   ],
   "source": [
    "! aleimi-run suppl.smi --params params.yml"
   ]
  },
  {
   "attachments": {},
   "cell_type": "markdown",
   "metadata": {},
   "source": [
    "In the working directory we will have for every input molecule:\n",
    "\n",
    "* `*.sdf` the stochastic conformation generated through RDKit.\n",
    "* `*_boltzmann.csv` . Here we have the information of the occupancy of each conformation\n",
    "* `*.arc` and `*.out` outputs of MOPAC.\n",
    "\n",
    "Then it will be the directories for the selected conformation with the input files to perform the QM calculation:\n",
    "* `job.sh`\n",
    "* Input file for the selected engine: `Psi4`, `Gaussian` or `Orca`."
   ]
  },
  {
   "cell_type": "code",
   "execution_count": 38,
   "metadata": {},
   "outputs": [
    {
     "data": {
      "text/plain": [
       "['conf_mol_1_Cell_9',\n",
       " 'params.yml',\n",
       " 'conf_mol_2.arc',\n",
       " 'conf_mol_3.sdf',\n",
       " 'conf_mol_3_Cell_5',\n",
       " 'conf_mol_1.mop',\n",
       " 'conf_mol_2_boltzmann.csv',\n",
       " 'conf_mol_2_Cell_8',\n",
       " 'conf_mol_2_Cell_10',\n",
       " 'conf_mol_2.out',\n",
       " 'suppl.smi',\n",
       " 'conf_mol_3.arc',\n",
       " 'conf_mol_3.out',\n",
       " 'conf_mol_2_Cell_5',\n",
       " 'conf_mol_3_boltzmann.csv',\n",
       " 'conf_mol_2_Cell_6',\n",
       " 'conf_mol_2.sdf',\n",
       " 'conf_mol_2_Cell_4',\n",
       " 'conf_mol_1_Cell_8',\n",
       " 'conf_mol_2.mop',\n",
       " 'conf_mol_1_Cell_3',\n",
       " 'conf_mol_1.sdf',\n",
       " 'conf_mol_1_boltzmann.csv',\n",
       " 'conf_mol_2_Cell_9',\n",
       " 'conf_mol_2_Cell_2',\n",
       " 'conf_mol_3.mop',\n",
       " 'conf_mol_1_Cell_7',\n",
       " 'conf_mol_1.out',\n",
       " 'conf_mol_3_Cell_6',\n",
       " 'Molecules used.png',\n",
       " 'conf_mol_2_Cell_7',\n",
       " 'conf_mol_2_Cell_1',\n",
       " 'conf_mol_3_Cell_9',\n",
       " 'conf_mol_3_Cell_4',\n",
       " 'conf_mol_1.arc',\n",
       " 'outparams.yml']"
      ]
     },
     "execution_count": 38,
     "metadata": {},
     "output_type": "execute_result"
    }
   ],
   "source": [
    "os.listdir()"
   ]
  },
  {
   "cell_type": "code",
   "execution_count": 39,
   "metadata": {},
   "outputs": [
    {
     "data": {
      "text/html": [
       "<div>\n",
       "<style scoped>\n",
       "    .dataframe tbody tr th:only-of-type {\n",
       "        vertical-align: middle;\n",
       "    }\n",
       "\n",
       "    .dataframe tbody tr th {\n",
       "        vertical-align: top;\n",
       "    }\n",
       "\n",
       "    .dataframe thead th {\n",
       "        text-align: right;\n",
       "    }\n",
       "</style>\n",
       "<table border=\"1\" class=\"dataframe\">\n",
       "  <thead>\n",
       "    <tr style=\"text-align: right;\">\n",
       "      <th></th>\n",
       "      <th>Unnamed: 0</th>\n",
       "      <th>cell</th>\n",
       "      <th>Class_E</th>\n",
       "      <th>HeatOfFormation_kcal/mol</th>\n",
       "      <th>Emin_Ei</th>\n",
       "      <th>qi__Pi/Pmin__e^(Emin_Ei)/KbT</th>\n",
       "      <th>Fraction_%__100*qi/q</th>\n",
       "    </tr>\n",
       "  </thead>\n",
       "  <tbody>\n",
       "    <tr>\n",
       "      <th>0</th>\n",
       "      <td>0</td>\n",
       "      <td>8</td>\n",
       "      <td>NaN</td>\n",
       "      <td>-159.98868</td>\n",
       "      <td>0.00000</td>\n",
       "      <td>1.000000</td>\n",
       "      <td>68.482786</td>\n",
       "    </tr>\n",
       "    <tr>\n",
       "      <th>1</th>\n",
       "      <td>1</td>\n",
       "      <td>3</td>\n",
       "      <td>NaN</td>\n",
       "      <td>-158.92079</td>\n",
       "      <td>-1.06789</td>\n",
       "      <td>0.164904</td>\n",
       "      <td>11.293086</td>\n",
       "    </tr>\n",
       "    <tr>\n",
       "      <th>2</th>\n",
       "      <td>2</td>\n",
       "      <td>7</td>\n",
       "      <td>NaN</td>\n",
       "      <td>-158.81017</td>\n",
       "      <td>-1.17851</td>\n",
       "      <td>0.136819</td>\n",
       "      <td>9.369741</td>\n",
       "    </tr>\n",
       "    <tr>\n",
       "      <th>3</th>\n",
       "      <td>3</td>\n",
       "      <td>9</td>\n",
       "      <td>NaN</td>\n",
       "      <td>-158.56569</td>\n",
       "      <td>-1.42299</td>\n",
       "      <td>0.090561</td>\n",
       "      <td>6.201868</td>\n",
       "    </tr>\n",
       "    <tr>\n",
       "      <th>4</th>\n",
       "      <td>4</td>\n",
       "      <td>6</td>\n",
       "      <td>NaN</td>\n",
       "      <td>-157.65133</td>\n",
       "      <td>-2.33735</td>\n",
       "      <td>0.019351</td>\n",
       "      <td>1.325232</td>\n",
       "    </tr>\n",
       "    <tr>\n",
       "      <th>5</th>\n",
       "      <td>5</td>\n",
       "      <td>1</td>\n",
       "      <td>NaN</td>\n",
       "      <td>-157.45372</td>\n",
       "      <td>-2.53496</td>\n",
       "      <td>0.013863</td>\n",
       "      <td>0.949386</td>\n",
       "    </tr>\n",
       "    <tr>\n",
       "      <th>6</th>\n",
       "      <td>6</td>\n",
       "      <td>10</td>\n",
       "      <td>NaN</td>\n",
       "      <td>-157.39704</td>\n",
       "      <td>-2.59164</td>\n",
       "      <td>0.012598</td>\n",
       "      <td>0.862772</td>\n",
       "    </tr>\n",
       "    <tr>\n",
       "      <th>7</th>\n",
       "      <td>7</td>\n",
       "      <td>5</td>\n",
       "      <td>NaN</td>\n",
       "      <td>-157.37828</td>\n",
       "      <td>-2.61040</td>\n",
       "      <td>0.012206</td>\n",
       "      <td>0.835882</td>\n",
       "    </tr>\n",
       "    <tr>\n",
       "      <th>8</th>\n",
       "      <td>8</td>\n",
       "      <td>2</td>\n",
       "      <td>NaN</td>\n",
       "      <td>-157.15556</td>\n",
       "      <td>-2.83312</td>\n",
       "      <td>0.008381</td>\n",
       "      <td>0.573971</td>\n",
       "    </tr>\n",
       "    <tr>\n",
       "      <th>9</th>\n",
       "      <td>9</td>\n",
       "      <td>4</td>\n",
       "      <td>NaN</td>\n",
       "      <td>-156.15071</td>\n",
       "      <td>-3.83797</td>\n",
       "      <td>0.001537</td>\n",
       "      <td>0.105276</td>\n",
       "    </tr>\n",
       "  </tbody>\n",
       "</table>\n",
       "</div>"
      ],
      "text/plain": [
       "   Unnamed: 0  cell  Class_E  HeatOfFormation_kcal/mol  Emin_Ei   \n",
       "0           0     8      NaN                -159.98868  0.00000  \\\n",
       "1           1     3      NaN                -158.92079 -1.06789   \n",
       "2           2     7      NaN                -158.81017 -1.17851   \n",
       "3           3     9      NaN                -158.56569 -1.42299   \n",
       "4           4     6      NaN                -157.65133 -2.33735   \n",
       "5           5     1      NaN                -157.45372 -2.53496   \n",
       "6           6    10      NaN                -157.39704 -2.59164   \n",
       "7           7     5      NaN                -157.37828 -2.61040   \n",
       "8           8     2      NaN                -157.15556 -2.83312   \n",
       "9           9     4      NaN                -156.15071 -3.83797   \n",
       "\n",
       "   qi__Pi/Pmin__e^(Emin_Ei)/KbT  Fraction_%__100*qi/q  \n",
       "0                      1.000000             68.482786  \n",
       "1                      0.164904             11.293086  \n",
       "2                      0.136819              9.369741  \n",
       "3                      0.090561              6.201868  \n",
       "4                      0.019351              1.325232  \n",
       "5                      0.013863              0.949386  \n",
       "6                      0.012598              0.862772  \n",
       "7                      0.012206              0.835882  \n",
       "8                      0.008381              0.573971  \n",
       "9                      0.001537              0.105276  "
      ]
     },
     "execution_count": 39,
     "metadata": {},
     "output_type": "execute_result"
    }
   ],
   "source": [
    "# Let's look to the content of the Boltzmann fle\n",
    "pd.read_csv('conf_mol_1_boltzmann.csv')"
   ]
  },
  {
   "attachments": {},
   "cell_type": "markdown",
   "metadata": {},
   "source": [
    "* `cell`: conformer identifier\n",
    "* `Class_E`: Classic energy from the RDKit optimization. in this example is `NaN` because we did not perform this optimization.\n",
    "* `HeatOfFormation_kcal`: self-explanatory [kcal/mol].\n",
    "* `Emin_Ei`: Difference in energy between the lower and the i-th conformer in [kcal/mol].\n",
    "* `qi__Pi/Pmin__e^(Emin_Ei)/KbT\t`: Boltzmann factors. $ q_i = \\frac{P_i}{Pmin} = e^{E_{min}-E{i}} $\n",
    "* `Fraction_%__100*qi/q`: Occupancy of each conformer: $ 100 \\frac{q_i}{\\sum{q_i}} $\n",
    "\n",
    "In this example, with a cutoff of 2 kcal/mol is enough to have more than 95 % of the occupancy. "
   ]
  },
  {
   "attachments": {},
   "cell_type": "markdown",
   "metadata": {},
   "source": [
    "After you run the QM simulations. You can process the result using the function `aleimi.processed.main`. Only `Psi4` output are currently accepted (in the future the other engines will be added as well a CLI for this step). However, you can generate your own scripts. You just need to:\n",
    "* Get the energies\n",
    "* Check if all the vibrational frequencies are correct (reals and positives)\n",
    "* Take the lower energy conformer for your specific study.\n"
   ]
  }
 ],
 "metadata": {
  "kernelspec": {
   "display_name": "Python 3.9.13 ('moldrug')",
   "language": "python",
   "name": "python3"
  },
  "language_info": {
   "codemirror_mode": {
    "name": "ipython",
    "version": 3
   },
   "file_extension": ".py",
   "mimetype": "text/x-python",
   "name": "python",
   "nbconvert_exporter": "python",
   "pygments_lexer": "ipython3",
   "version": "3.9.16"
  },
  "orig_nbformat": 4,
  "vscode": {
   "interpreter": {
    "hash": "580997a69bc0f3991857025e1d93e87ed090e2c1fa4aff0ca8e9824f56baf8cb"
   }
  }
 },
 "nbformat": 4,
 "nbformat_minor": 2
}
